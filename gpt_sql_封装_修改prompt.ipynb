{
 "cells": [
  {
   "cell_type": "markdown",
   "id": "21102a81",
   "metadata": {},
   "source": [
    "# import 包"
   ]
  },
  {
   "cell_type": "code",
   "execution_count": 1,
   "id": "c14e709e",
   "metadata": {},
   "outputs": [],
   "source": [
    "from transformers import AutoModelForCausalLM, AutoTokenizer\n",
    "import re\n",
    "import sqlite3"
   ]
  },
  {
   "cell_type": "code",
   "execution_count": null,
   "id": "687bbeb8",
   "metadata": {},
   "outputs": [],
   "source": []
  },
  {
   "cell_type": "markdown",
   "id": "7673e26a",
   "metadata": {},
   "source": [
    "# 获得sql查询"
   ]
  },
  {
   "cell_type": "code",
   "execution_count": 88,
   "id": "4203811d",
   "metadata": {},
   "outputs": [],
   "source": [
    "# 字段信息:\n",
    "# import sqlite3\n",
    "\n",
    "# # 连接到数据库\n",
    "# conn = sqlite3.connect('./db/Chinook.db')\n",
    "\n",
    "# # 查询当前数据库中所有表名\n",
    "# cursor = conn.cursor()\n",
    "# cursor.execute(\"SELECT name FROM sqlite_master WHERE type='table';\")\n",
    "# table_names = [row[0] for row in cursor.fetchall()]\n",
    "\n",
    "# # 查询每张表包含的字段\n",
    "# for table_name in table_names:\n",
    "#     cursor.execute(\"PRAGMA table_info('{}')\".format(table_name))\n",
    "#     columns = [row[1] for row in cursor.fetchall()]\n",
    "#     print(\"{}: {}\".format(table_name, columns))\n",
    "\n",
    "# # 关闭数据库连接\n",
    "# conn.close()"
   ]
  },
  {
   "cell_type": "code",
   "execution_count": 69,
   "id": "f2bc6fa5",
   "metadata": {},
   "outputs": [],
   "source": [
    "def get_prompt(cur_question):\n",
    "    res = f\"\"\"\n",
    "    当前数据库包含的表名和表中包含的字段如下:\n",
    "    Album: ['AlbumId', 'Title', 'ArtistId']\n",
    "    Artist: ['ArtistId', 'Name']\n",
    "    Customer: ['CustomerId', 'FirstName', 'LastName', 'Company', 'Address', 'City', 'State', 'Country', 'PostalCode', 'Phone', 'Fax', 'Email', 'SupportRepId']\n",
    "    Employee: ['EmployeeId', 'LastName', 'FirstName', 'Title', 'ReportsTo', 'BirthDate', 'HireDate', 'Address', 'City', 'State', 'Country', 'PostalCode', 'Phone', 'Fax', 'Email']\n",
    "    Genre: ['GenreId', 'Name']\n",
    "    Invoice: ['InvoiceId', 'CustomerId', 'InvoiceDate', 'BillingAddress', 'BillingCity', 'BillingState', 'BillingCountry', 'BillingPostalCode', 'Total']\n",
    "    InvoiceLine: ['InvoiceLineId', 'InvoiceId', 'TrackId', 'UnitPrice', 'Quantity']\n",
    "    MediaType: ['MediaTypeId', 'Name']\n",
    "    Playlist: ['PlaylistId', 'Name']\n",
    "    PlaylistTrack: ['PlaylistId', 'TrackId']\n",
    "    Track: ['TrackId', 'Name', 'AlbumId', 'MediaTypeId', 'GenreId', 'Composer', 'Milliseconds', 'Bytes', 'UnitPrice']\n",
    "    请基于这个数据库，编写sql语句，对这个数据库进行查询。\n",
    "    要求sql语句必须能在这个数据库中正确执行，不能查询这个数据库中不存在的表或者字段。\n",
    "    example:\n",
    "    1. question:查询 Customer 表中客户的数量, answer:SELECT COUNT(*) FROM Customer;\n",
    "    2. question:查询 Invoice 表中发票总金额的最大值, answer:SELECT MAX(Total) FROM Invoice;\n",
    "    3. question:{cur_question}\n",
    "    \"\"\"\n",
    "    return res"
   ]
  },
  {
   "cell_type": "code",
   "execution_count": 70,
   "id": "bd61b5f2",
   "metadata": {},
   "outputs": [],
   "source": [
    "def get_sql(prompt, tokenizer, model):\n",
    "    inputs = tokenizer.encode(prompt, return_tensors=\"pt\")\n",
    "    outputs = model.generate(inputs, max_length=2000)\n",
    "    full_res = tokenizer.decode(outputs[0], skip_special_tokens=True)\n",
    "    sql = full_res.split(prompt)[1]\n",
    "    return sql"
   ]
  },
  {
   "cell_type": "code",
   "execution_count": 71,
   "id": "b7eaa493",
   "metadata": {},
   "outputs": [],
   "source": [
    "def query_in_db(db, sql):\n",
    "    \n",
    "    conn = sqlite3.connect(db)\n",
    "    cur = conn.cursor()\n",
    "    cur.execute(sql)\n",
    "    result = cur.fetchone()\n",
    "    sql_res = result[0]\n",
    "    conn.close()\n",
    "    \n",
    "    return sql_res"
   ]
  },
  {
   "cell_type": "code",
   "execution_count": 77,
   "id": "6f5d4e36",
   "metadata": {},
   "outputs": [],
   "source": [
    "def get_answer(cur_question, sql_res, tokenizer, model):\n",
    "    prompt = f\"\"\"\n",
    "    question:查询音频类型的数量, \n",
    "    context: 19, \n",
    "    answer: 音频类型的数量为10.\n",
    "    question:查询平均发票总金额, \n",
    "    context: 25, \n",
    "    answer: 平均发票总金额为25.\n",
    "    question:{cur_question}, \n",
    "    context: {sql_res}, \n",
    "    answer: \n",
    "    \"\"\"\n",
    "    inputs = tokenizer.encode(prompt, return_tensors=\"pt\")\n",
    "    outputs = model.generate(inputs, max_length=100)\n",
    "    full_res = tokenizer.decode(outputs[0], skip_special_tokens=True)\n",
    "#     print(full_res)\n",
    "    answer = full_res.split(prompt)[1].strip()\n",
    "    return answer"
   ]
  },
  {
   "cell_type": "code",
   "execution_count": null,
   "id": "01364589",
   "metadata": {},
   "outputs": [],
   "source": []
  },
  {
   "cell_type": "code",
   "execution_count": 78,
   "id": "9c4015b8",
   "metadata": {},
   "outputs": [],
   "source": [
    "# cur_question = \"查询 Employee 表中员工的总数\"\n",
    "# prompt = get_prompt(cur_question) # 获取prompt\n",
    "# sql = get_sql(prompt, tokenizer, model)  # 获取sql\n",
    "# print(sql)\n",
    "# sql_res = query_in_db(db, sql)  # 执行sql\n",
    "# answer = get_answer(cur_question, sql_res, tokenizer, model) # 基于sql结果返回答案\n",
    "# answer"
   ]
  },
  {
   "cell_type": "code",
   "execution_count": 79,
   "id": "ce61b33d",
   "metadata": {},
   "outputs": [],
   "source": [
    "def chain(cur_question, tokenizer, model, db):\n",
    "    prompt = get_prompt(cur_question) # 获取prompt\n",
    "    sql = get_sql(prompt, tokenizer, model)  # 获取sql\n",
    "    sql_res = query_in_db(db, sql)  # 执行sql\n",
    "    answer = get_answer(cur_question, sql_res, tokenizer, model) # 基于sql结果返回答案\n",
    "    return sql, answer"
   ]
  },
  {
   "cell_type": "code",
   "execution_count": null,
   "id": "ee2fe795",
   "metadata": {},
   "outputs": [],
   "source": []
  },
  {
   "cell_type": "code",
   "execution_count": null,
   "id": "38ff140e",
   "metadata": {},
   "outputs": [],
   "source": []
  },
  {
   "cell_type": "code",
   "execution_count": 8,
   "id": "32d701f1",
   "metadata": {
    "scrolled": true
   },
   "outputs": [],
   "source": [
    "# 配置模型信息\n",
    "checkpoint = \"bigscience/bloomz-7b1\"\n",
    "tokenizer = AutoTokenizer.from_pretrained(checkpoint)\n",
    "model = AutoModelForCausalLM.from_pretrained(checkpoint)\n",
    "\n",
    "# 配置数据库\n",
    "db = './db/Chinook.db'"
   ]
  },
  {
   "cell_type": "code",
   "execution_count": null,
   "id": "4d54d996",
   "metadata": {},
   "outputs": [],
   "source": []
  },
  {
   "cell_type": "code",
   "execution_count": 80,
   "id": "eb80a604",
   "metadata": {
    "scrolled": true
   },
   "outputs": [
    {
     "name": "stdout",
     "output_type": "stream",
     "text": [
      " SELECT COUNT(*) FROM Employee;\n",
      "Employee 表中员工的总数为8.\n"
     ]
    }
   ],
   "source": [
    "cur_question = \"查询 Employee 表中员工的总数\"\n",
    "sql, answer = chain(cur_question, tokenizer, model, db)\n",
    "print(sql)\n",
    "print(answer)"
   ]
  },
  {
   "cell_type": "code",
   "execution_count": 81,
   "id": "fbf13761",
   "metadata": {
    "scrolled": true
   },
   "outputs": [
    {
     "name": "stdout",
     "output_type": "stream",
     "text": [
      " SELECT COUNT(*) FROM Employee\n",
      "员工的总数为8.\n"
     ]
    }
   ],
   "source": [
    "cur_question = \"查询员工的总数\"\n",
    "sql, answer = chain(cur_question, tokenizer, model, db)\n",
    "print(sql)\n",
    "print(answer)"
   ]
  },
  {
   "cell_type": "code",
   "execution_count": 82,
   "id": "0a4a4822",
   "metadata": {},
   "outputs": [],
   "source": [
    "# cur_question = \"查询 Invoice 表中最早的发票日期\"\n",
    "# prompt = get_prompt(cur_question) # 获取prompt\n",
    "# inputs = tokenizer.encode(prompt, return_tensors=\"pt\")\n",
    "# outputs = model.generate(inputs, max_length=2000)\n",
    "# full_res = tokenizer.decode(outputs[0], skip_special_tokens=True)\n",
    "# sql = full_res.split(prompt)[1]\n",
    "# print(full_res)"
   ]
  },
  {
   "cell_type": "code",
   "execution_count": null,
   "id": "ff5c8b67",
   "metadata": {},
   "outputs": [],
   "source": []
  },
  {
   "cell_type": "code",
   "execution_count": null,
   "id": "60654e41",
   "metadata": {},
   "outputs": [],
   "source": []
  },
  {
   "cell_type": "code",
   "execution_count": 83,
   "id": "7663b656",
   "metadata": {
    "scrolled": true
   },
   "outputs": [
    {
     "name": "stdout",
     "output_type": "stream",
     "text": [
      " SELECT MIN(InvoiceDate) FROM Invoice\n",
      "2009-01-01 00:00:00\n"
     ]
    }
   ],
   "source": [
    "cur_question = \"查询 Invoice 表中最早的发票日期\"\n",
    "sql, answer = chain(cur_question, tokenizer, model, db)\n",
    "print(sql)\n",
    "print(answer)"
   ]
  },
  {
   "cell_type": "code",
   "execution_count": 84,
   "id": "f3c5bf04",
   "metadata": {
    "scrolled": true
   },
   "outputs": [
    {
     "name": "stdout",
     "output_type": "stream",
     "text": [
      " SELECT AVG(Total) FROM Invoice;\n",
      "(5.651941747572825 / 5)\n"
     ]
    }
   ],
   "source": [
    "cur_question = \"查询 Invoice 表中发票的平均总金额\"\n",
    "sql, answer = chain(cur_question, tokenizer, model, db)\n",
    "print(sql)\n",
    "print(answer)"
   ]
  },
  {
   "cell_type": "code",
   "execution_count": 85,
   "id": "33e3ea22",
   "metadata": {},
   "outputs": [
    {
     "name": "stdout",
     "output_type": "stream",
     "text": [
      " SELECT COUNT(*) FROM Genre;\n",
      "(Genre.music_style_id, Genre.music_style_name) = (1, 'rock')\n"
     ]
    }
   ],
   "source": [
    "cur_question = \"查询 Genre 表中音乐风格的数量\"\n",
    "sql, answer = chain(cur_question, tokenizer, model, db)\n",
    "print(sql)\n",
    "print(answer)"
   ]
  },
  {
   "cell_type": "code",
   "execution_count": 86,
   "id": "54913097",
   "metadata": {},
   "outputs": [
    {
     "name": "stdout",
     "output_type": "stream",
     "text": [
      " SELECT Artist.ArtistId FROM Artist WHERE Artist.Name = 'Queen';\n",
      "(51, 'Queen')\n"
     ]
    }
   ],
   "source": [
    "cur_question = '查询 Artist 表中歌手名字为 \"Queen\" 的歌手的 ID'\n",
    "sql, answer = chain(cur_question, tokenizer, model, db)\n",
    "print(sql)\n",
    "print(answer)"
   ]
  },
  {
   "cell_type": "code",
   "execution_count": 87,
   "id": "09e5605a",
   "metadata": {},
   "outputs": [
    {
     "name": "stdout",
     "output_type": "stream",
     "text": [
      " SELECT MIN(UnitPrice) FROM Track WHERE Name = 'price'\n",
      "(None, None, None, None, None, None, None, None, None, None, None, None, None, None, None, None, None, None, None, None, None, None, None\n"
     ]
    }
   ],
   "source": [
    "cur_question = \"查询 Track 表中售价最便宜的音乐的售价\"\n",
    "sql, answer = chain(cur_question, tokenizer, model, db)\n",
    "print(sql)\n",
    "print(answer)"
   ]
  },
  {
   "cell_type": "code",
   "execution_count": null,
   "id": "0f75b76c",
   "metadata": {},
   "outputs": [],
   "source": []
  },
  {
   "cell_type": "code",
   "execution_count": null,
   "id": "2580241f",
   "metadata": {},
   "outputs": [],
   "source": []
  },
  {
   "cell_type": "code",
   "execution_count": null,
   "id": "3597368c",
   "metadata": {},
   "outputs": [],
   "source": []
  },
  {
   "cell_type": "code",
   "execution_count": 5,
   "id": "d6df3482",
   "metadata": {},
   "outputs": [],
   "source": []
  },
  {
   "cell_type": "code",
   "execution_count": 9,
   "id": "5f12fdef",
   "metadata": {
    "scrolled": false
   },
   "outputs": [
    {
     "data": {
      "text/plain": [
       "' SELECT COUNT(*) FROM Employee;'"
      ]
     },
     "execution_count": 9,
     "metadata": {},
     "output_type": "execute_result"
    }
   ],
   "source": [
    "cur_question = \"查询员工的总数\"\n",
    "\n",
    "prompt = get_input(cur_question)\n",
    "sql = get_sql(prompt, tokenizer, model)\n",
    "sql\n",
    "# SELECT COUNT(*) FROM Employee;"
   ]
  },
  {
   "cell_type": "code",
   "execution_count": 15,
   "id": "352b526e",
   "metadata": {},
   "outputs": [
    {
     "data": {
      "text/plain": [
       "\" SELECT Artist.ArtistId FROM Artist WHERE Artist.Name = 'Queen';\""
      ]
     },
     "execution_count": 15,
     "metadata": {},
     "output_type": "execute_result"
    }
   ],
   "source": [
    "cur_question = '查询 Artist 表中歌手名字为 \"Queen\" 的歌手的 ID'\n",
    "\n",
    "prompt = get_input(cur_question)\n",
    "sql = get_sql(prompt, tokenizer, model)\n",
    "sql\n",
    "# SELECT ArtistId FROM Artist WHERE Name = 'Queen';"
   ]
  },
  {
   "cell_type": "code",
   "execution_count": 16,
   "id": "bce84372",
   "metadata": {},
   "outputs": [
    {
     "data": {
      "text/plain": [
       "' SELECT MAX(UnitPrice) FROM Track WHERE MediaTypeId = 1;'"
      ]
     },
     "execution_count": 16,
     "metadata": {},
     "output_type": "execute_result"
    }
   ],
   "source": [
    "cur_question = \"查询 Track 表中售价最贵的音乐的售价\"\n",
    "\n",
    "prompt = get_input(cur_question)\n",
    "sql = get_sql(prompt, tokenizer, model)\n",
    "sql\n",
    "# SELECT MAX(UnitPrice) FROM Track;"
   ]
  },
  {
   "cell_type": "code",
   "execution_count": 17,
   "id": "954241ee",
   "metadata": {},
   "outputs": [
    {
     "data": {
      "text/plain": [
       "' SELECT AVG(Total) FROM Invoice;'"
      ]
     },
     "execution_count": 17,
     "metadata": {},
     "output_type": "execute_result"
    }
   ],
   "source": [
    "cur_question = \"查询 Invoice 表中发票的平均总金额\"\n",
    "\n",
    "prompt = get_input(cur_question)\n",
    "sql = get_sql(prompt, tokenizer, model)\n",
    "sql\n",
    "# SELECT AVG(Total) FROM Invoice;"
   ]
  },
  {
   "cell_type": "code",
   "execution_count": 18,
   "id": "29eb734f",
   "metadata": {},
   "outputs": [
    {
     "data": {
      "text/plain": [
       "' SELECT MIN(UnitPrice) FROM Track WHERE Track.MediaTypeId = 1 AND Track.Milliseconds > 0'"
      ]
     },
     "execution_count": 18,
     "metadata": {},
     "output_type": "execute_result"
    }
   ],
   "source": [
    "cur_question = \"查询 Track 表中售价最便宜的音乐的售价\"\n",
    "\n",
    "prompt = get_input(cur_question)\n",
    "sql = get_sql(prompt, tokenizer, model)\n",
    "sql\n",
    "# SELECT MIN(UnitPrice) FROM Track;"
   ]
  },
  {
   "cell_type": "code",
   "execution_count": 19,
   "id": "b2afacf8",
   "metadata": {
    "scrolled": true
   },
   "outputs": [
    {
     "data": {
      "text/plain": [
       "' SELECT MAX(InvoiceDate) FROM Invoice;'"
      ]
     },
     "execution_count": 19,
     "metadata": {},
     "output_type": "execute_result"
    }
   ],
   "source": [
    "cur_question = \"查询 Invoice 表中最早的发票日期\"\n",
    "\n",
    "prompt = get_input(cur_question)\n",
    "sql = get_sql(prompt, tokenizer, model)\n",
    "sql\n",
    "# SELECT MIN(InvoiceDate) FROM Invoice;"
   ]
  },
  {
   "cell_type": "markdown",
   "id": "ad5ae130",
   "metadata": {},
   "source": []
  },
  {
   "cell_type": "code",
   "execution_count": 20,
   "id": "dcc6fb61",
   "metadata": {},
   "outputs": [],
   "source": []
  },
  {
   "cell_type": "code",
   "execution_count": 21,
   "id": "c36a555e",
   "metadata": {},
   "outputs": [],
   "source": []
  },
  {
   "cell_type": "markdown",
   "id": "18df2847",
   "metadata": {},
   "source": []
  },
  {
   "cell_type": "code",
   "execution_count": 30,
   "id": "9477dbd1",
   "metadata": {},
   "outputs": [],
   "source": []
  },
  {
   "cell_type": "code",
   "execution_count": null,
   "id": "14907541",
   "metadata": {},
   "outputs": [],
   "source": []
  },
  {
   "cell_type": "code",
   "execution_count": null,
   "id": "41367c87",
   "metadata": {},
   "outputs": [],
   "source": [
    "# How many employees are there? \n",
    "# ' There are 8 employees.'\n",
    "\n",
    "\n",
    "# \"How many employees are also customers?\"\n",
    "# 59 employees are also customers."
   ]
  }
 ],
 "metadata": {
  "kernelspec": {
   "display_name": "gpt",
   "language": "python",
   "name": "python3"
  },
  "language_info": {
   "codemirror_mode": {
    "name": "ipython",
    "version": 3
   },
   "file_extension": ".py",
   "mimetype": "text/x-python",
   "name": "python",
   "nbconvert_exporter": "python",
   "pygments_lexer": "ipython3",
   "version": "3.11.0"
  },
  "vscode": {
   "interpreter": {
    "hash": "9b4b0678830a447f9b651e3b11f0391a10ee7d364ceeecb8e8bdbee07a22b8ea"
   }
  }
 },
 "nbformat": 4,
 "nbformat_minor": 5
}
