{
 "cells": [
  {
   "cell_type": "code",
   "execution_count": 1,
   "id": "4c9fd0fd",
   "metadata": {},
   "outputs": [],
   "source": [
    "import re\n",
    "\n",
    "# 打开a.txt文件，读取内容\n",
    "with open('chatpt_sql.txt', 'r') as f:\n",
    "    content = f.read()\n",
    "\n",
    "# 使用正则表达式匹配查询语句\n",
    "pattern = r'-- \\d+\\..+'\n",
    "matches = re.findall(pattern, content)\n",
    "\n",
    "# 将匹配到的查询语句写入question.txt文件\n",
    "with open('question_temp.txt', 'w') as f:\n",
    "    for match in matches:\n",
    "        f.write(match[3:] + '\\n')\n"
   ]
  },
  {
   "cell_type": "code",
   "execution_count": 2,
   "id": "98cf85af",
   "metadata": {},
   "outputs": [],
   "source": [
    "# 打开question.txt文件，读取内容\n",
    "with open('question_temp.txt', 'r') as f:\n",
    "    content = f.readlines()\n",
    "\n",
    "# 去掉每一行最前面的数字和句点\n",
    "new_content = [line[line.index('.')+2:] for line in content]\n",
    "\n",
    "# 将修改后的行写入new_question.txt文件\n",
    "with open('question.txt', 'w') as f:\n",
    "    f.writelines(new_content)\n"
   ]
  },
  {
   "cell_type": "code",
   "execution_count": 3,
   "id": "bf913765",
   "metadata": {},
   "outputs": [],
   "source": [
    "import re\n",
    "\n",
    "# 打开a.txt文件，读取内容\n",
    "with open('chatpt_sql.txt', 'r') as f:\n",
    "    content = f.read()\n",
    "\n",
    "# 使用正则表达式匹配SQL语句\n",
    "pattern = r'[A-Z]+\\s[\\s\\S]*?(?=-- \\d+\\.|\\Z)'\n",
    "matches = re.findall(pattern, content)\n",
    "\n",
    "# 将匹配到的SQL语句写入answer.txt文件\n",
    "with open('answer.txt', 'w') as f:\n",
    "    for match in matches:\n",
    "        # 去掉多余的换行符和空格\n",
    "        match = match.replace('\\n', ' ').strip()\n",
    "        match = match.replace('                      ', ' ')\n",
    "        f.write(match + '\\n')\n"
   ]
  },
  {
   "cell_type": "code",
   "execution_count": null,
   "id": "7b519a2d",
   "metadata": {},
   "outputs": [],
   "source": []
  }
 ],
 "metadata": {
  "kernelspec": {
   "display_name": "Python 3 (ipykernel)",
   "language": "python",
   "name": "python3"
  },
  "language_info": {
   "codemirror_mode": {
    "name": "ipython",
    "version": 3
   },
   "file_extension": ".py",
   "mimetype": "text/x-python",
   "name": "python",
   "nbconvert_exporter": "python",
   "pygments_lexer": "ipython3",
   "version": "3.11.0"
  }
 },
 "nbformat": 4,
 "nbformat_minor": 5
}
