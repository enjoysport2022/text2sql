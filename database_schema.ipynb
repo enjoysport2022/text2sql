{
 "cells": [
  {
   "cell_type": "code",
   "execution_count": 1,
   "id": "687bbeb8",
   "metadata": {},
   "outputs": [
    {
     "name": "stdout",
     "output_type": "stream",
     "text": [
      "Table 'Album': ['AlbumId', 'Title', 'ArtistId']\n",
      "Table 'Artist': ['ArtistId', 'Name']\n",
      "Table 'Customer': ['CustomerId', 'FirstName', 'LastName', 'Company', 'Address', 'City', 'State', 'Country', 'PostalCode', 'Phone', 'Fax', 'Email', 'SupportRepId']\n",
      "Table 'Employee': ['EmployeeId', 'LastName', 'FirstName', 'Title', 'ReportsTo', 'BirthDate', 'HireDate', 'Address', 'City', 'State', 'Country', 'PostalCode', 'Phone', 'Fax', 'Email']\n",
      "Table 'Genre': ['GenreId', 'Name']\n",
      "Table 'Invoice': ['InvoiceId', 'CustomerId', 'InvoiceDate', 'BillingAddress', 'BillingCity', 'BillingState', 'BillingCountry', 'BillingPostalCode', 'Total']\n",
      "Table 'InvoiceLine': ['InvoiceLineId', 'InvoiceId', 'TrackId', 'UnitPrice', 'Quantity']\n",
      "Table 'MediaType': ['MediaTypeId', 'Name']\n",
      "Table 'Playlist': ['PlaylistId', 'Name']\n",
      "Table 'PlaylistTrack': ['PlaylistId', 'TrackId']\n",
      "Table 'Track': ['TrackId', 'Name', 'AlbumId', 'MediaTypeId', 'GenreId', 'Composer', 'Milliseconds', 'Bytes', 'UnitPrice']\n"
     ]
    }
   ],
   "source": [
    "import sqlite3\n",
    "\n",
    "# 连接到数据库\n",
    "conn = sqlite3.connect('./db/Chinook.db')\n",
    "\n",
    "# 查询当前数据库中所有表名\n",
    "cursor = conn.cursor()\n",
    "cursor.execute(\"SELECT name FROM sqlite_master WHERE type='table';\")\n",
    "table_names = [row[0] for row in cursor.fetchall()]\n",
    "\n",
    "# 查询每张表包含的字段\n",
    "for table_name in table_names:\n",
    "    cursor.execute(\"PRAGMA table_info('{}')\".format(table_name))\n",
    "    columns = [row[1] for row in cursor.fetchall()]\n",
    "    print(\"Table '{}': {}\".format(table_name, columns))\n",
    "\n",
    "# 关闭数据库连接\n",
    "conn.close()\n"
   ]
  },
  {
   "cell_type": "code",
   "execution_count": 5,
   "id": "d6df3482",
   "metadata": {},
   "outputs": [],
   "source": []
  }
 ],
 "metadata": {
  "kernelspec": {
   "display_name": "gpt env",
   "language": "python",
   "name": "gpt"
  },
  "language_info": {
   "codemirror_mode": {
    "name": "ipython",
    "version": 3
   },
   "file_extension": ".py",
   "mimetype": "text/x-python",
   "name": "python",
   "nbconvert_exporter": "python",
   "pygments_lexer": "ipython3",
   "version": "3.11.0"
  },
  "vscode": {
   "interpreter": {
    "hash": "9b4b0678830a447f9b651e3b11f0391a10ee7d364ceeecb8e8bdbee07a22b8ea"
   }
  }
 },
 "nbformat": 4,
 "nbformat_minor": 5
}
